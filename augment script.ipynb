{
 "cells": [
  {
   "cell_type": "markdown",
   "id": "5e28e8a3",
   "metadata": {},
   "source": [
    "## TODO: rename paths and files!\n",
    "\n",
    "## download historical events from opendata\n",
    "https://data.cityofnewyork.us/City-Government/NYC-Permitted-Event-Information-Historical/bkfu-528j"
   ]
  },
  {
   "cell_type": "code",
   "execution_count": 1,
   "id": "291a57ee",
   "metadata": {},
   "outputs": [],
   "source": [
    "import pandas as pd\n",
    "import polars as pl\n",
    "import json"
   ]
  },
  {
   "cell_type": "code",
   "execution_count": 2,
   "id": "55b1d7b1",
   "metadata": {},
   "outputs": [],
   "source": [
    "def augment_weather(df: pl.DataFrame, year, parquet = False):\n",
    "    tmp = df\n",
    "    \n",
    "    # transpose if reading parquet?\n",
    "    if parquet:\n",
    "        tmp = pd.DataFrame(df).transpose()\n",
    "        tmp.columns = df.columns\n",
    "\n",
    "    weather = pd.read_csv(\"./data/weather/ny_weather_{0}.csv\".format(year))\n",
    "    weather = weather[['datetime', 'temp', 'humidity', 'snowdepth', 'windspeed', 'conditions', 'description']]\n",
    "    weather['snowdepth'].fillna(0, inplace=True)\n",
    "    \n",
    "    weather['datetime'] = pd.to_datetime(weather['datetime']).dt.date\n",
    "    \n",
    "    tmp['datetime'] = tmp['datetime_issue'].dt.date\n",
    "\n",
    "    res = tmp.merge(weather, on='datetime', how='left')\n",
    "\n",
    "    out = pd.DataFrame(res)\n",
    "    return out"
   ]
  },
  {
   "cell_type": "code",
   "execution_count": 3,
   "id": "086035c9",
   "metadata": {},
   "outputs": [
    {
     "name": "stderr",
     "output_type": "stream",
     "text": [
      "C:\\Users\\Ana\\anaconda3\\lib\\site-packages\\IPython\\core\\interactiveshell.py:3369: DtypeWarning: Columns (17,18,20,22,23,26,27,29,30,31,32,36,38) have mixed types.Specify dtype option on import or set low_memory=False.\n",
      "  exec(code_obj, self.user_global_ns, self.user_ns)\n"
     ]
    }
   ],
   "source": [
    "df = pd.read_csv(\"data/2023_parking_violations.csv\")"
   ]
  },
  {
   "cell_type": "code",
   "execution_count": 4,
   "id": "81eab0e1",
   "metadata": {},
   "outputs": [],
   "source": [
    "df['datetime_issue']= df['Issue Date'] + ' ' + df['Violation Time']\n",
    "df['datetime_issue'] = df['datetime_issue'] + 'M'\n",
    "df['datetime_issue'] = pd.to_datetime(df['datetime_issue'], format='%m/%d/%Y %I%M%p', errors='coerce')\n",
    "\n"
   ]
  },
  {
   "cell_type": "code",
   "execution_count": 5,
   "id": "75c8510a",
   "metadata": {},
   "outputs": [
    {
     "data": {
      "text/plain": [
       "Timestamp('1972-04-04 09:45:00')"
      ]
     },
     "execution_count": 5,
     "metadata": {},
     "output_type": "execute_result"
    }
   ],
   "source": [
    "df['datetime_issue'].min()"
   ]
  },
  {
   "cell_type": "code",
   "execution_count": 6,
   "id": "78601bc3",
   "metadata": {},
   "outputs": [],
   "source": [
    "df = augment_weather(df, 2023)"
   ]
  },
  {
   "cell_type": "code",
   "execution_count": 7,
   "id": "489e0e4e",
   "metadata": {},
   "outputs": [
    {
     "data": {
      "text/html": [
       "<div>\n",
       "<style scoped>\n",
       "    .dataframe tbody tr th:only-of-type {\n",
       "        vertical-align: middle;\n",
       "    }\n",
       "\n",
       "    .dataframe tbody tr th {\n",
       "        vertical-align: top;\n",
       "    }\n",
       "\n",
       "    .dataframe thead th {\n",
       "        text-align: right;\n",
       "    }\n",
       "</style>\n",
       "<table border=\"1\" class=\"dataframe\">\n",
       "  <thead>\n",
       "    <tr style=\"text-align: right;\">\n",
       "      <th></th>\n",
       "      <th>Summons Number</th>\n",
       "      <th>Plate ID</th>\n",
       "      <th>Registration State</th>\n",
       "      <th>Plate Type</th>\n",
       "      <th>Issue Date</th>\n",
       "      <th>Violation Code</th>\n",
       "      <th>Vehicle Body Type</th>\n",
       "      <th>Vehicle Make</th>\n",
       "      <th>Issuing Agency</th>\n",
       "      <th>Street Code1</th>\n",
       "      <th>...</th>\n",
       "      <th>Hydrant Violation</th>\n",
       "      <th>Double Parking Violation</th>\n",
       "      <th>datetime_issue</th>\n",
       "      <th>datetime</th>\n",
       "      <th>temp</th>\n",
       "      <th>humidity</th>\n",
       "      <th>snowdepth</th>\n",
       "      <th>windspeed</th>\n",
       "      <th>conditions</th>\n",
       "      <th>description</th>\n",
       "    </tr>\n",
       "  </thead>\n",
       "  <tbody>\n",
       "    <tr>\n",
       "      <th>0</th>\n",
       "      <td>1484697303</td>\n",
       "      <td>JER1863</td>\n",
       "      <td>NY</td>\n",
       "      <td>PAS</td>\n",
       "      <td>06/10/2022</td>\n",
       "      <td>67</td>\n",
       "      <td>SDN</td>\n",
       "      <td>TOYOT</td>\n",
       "      <td>P</td>\n",
       "      <td>34330</td>\n",
       "      <td>...</td>\n",
       "      <td>NaN</td>\n",
       "      <td>NaN</td>\n",
       "      <td>2022-06-10 10:37:00</td>\n",
       "      <td>2022-06-10</td>\n",
       "      <td>22.3</td>\n",
       "      <td>49.5</td>\n",
       "      <td>0.0</td>\n",
       "      <td>21.7</td>\n",
       "      <td>Rain</td>\n",
       "      <td>Clear conditions throughout the day with late ...</td>\n",
       "    </tr>\n",
       "    <tr>\n",
       "      <th>1</th>\n",
       "      <td>1484697315</td>\n",
       "      <td>KEV4487</td>\n",
       "      <td>NY</td>\n",
       "      <td>PAS</td>\n",
       "      <td>06/13/2022</td>\n",
       "      <td>51</td>\n",
       "      <td>SUBN</td>\n",
       "      <td>JEEP</td>\n",
       "      <td>K</td>\n",
       "      <td>34310</td>\n",
       "      <td>...</td>\n",
       "      <td>NaN</td>\n",
       "      <td>NaN</td>\n",
       "      <td>2022-06-13 10:45:00</td>\n",
       "      <td>2022-06-13</td>\n",
       "      <td>24.3</td>\n",
       "      <td>72.4</td>\n",
       "      <td>0.0</td>\n",
       "      <td>14.5</td>\n",
       "      <td>Rain, Partially cloudy</td>\n",
       "      <td>Becoming cloudy in the afternoon with rain.</td>\n",
       "    </tr>\n",
       "    <tr>\n",
       "      <th>2</th>\n",
       "      <td>1484697625</td>\n",
       "      <td>H73NYD</td>\n",
       "      <td>NJ</td>\n",
       "      <td>PAS</td>\n",
       "      <td>06/19/2022</td>\n",
       "      <td>63</td>\n",
       "      <td>SDN</td>\n",
       "      <td>JEEP</td>\n",
       "      <td>N</td>\n",
       "      <td>30640</td>\n",
       "      <td>...</td>\n",
       "      <td>NaN</td>\n",
       "      <td>NaN</td>\n",
       "      <td>2022-06-19 11:16:00</td>\n",
       "      <td>2022-06-19</td>\n",
       "      <td>17.6</td>\n",
       "      <td>40.6</td>\n",
       "      <td>0.0</td>\n",
       "      <td>29.5</td>\n",
       "      <td>Partially cloudy</td>\n",
       "      <td>Partly cloudy throughout the day.</td>\n",
       "    </tr>\n",
       "    <tr>\n",
       "      <th>3</th>\n",
       "      <td>1484697674</td>\n",
       "      <td>GJC9296</td>\n",
       "      <td>NY</td>\n",
       "      <td>PAS</td>\n",
       "      <td>06/19/2022</td>\n",
       "      <td>63</td>\n",
       "      <td>SUBN</td>\n",
       "      <td>LEXUS</td>\n",
       "      <td>N</td>\n",
       "      <td>30640</td>\n",
       "      <td>...</td>\n",
       "      <td>NaN</td>\n",
       "      <td>NaN</td>\n",
       "      <td>2022-06-19 10:52:00</td>\n",
       "      <td>2022-06-19</td>\n",
       "      <td>17.6</td>\n",
       "      <td>40.6</td>\n",
       "      <td>0.0</td>\n",
       "      <td>29.5</td>\n",
       "      <td>Partially cloudy</td>\n",
       "      <td>Partly cloudy throughout the day.</td>\n",
       "    </tr>\n",
       "    <tr>\n",
       "      <th>4</th>\n",
       "      <td>1484697686</td>\n",
       "      <td>M51PUV</td>\n",
       "      <td>NJ</td>\n",
       "      <td>PAS</td>\n",
       "      <td>06/19/2022</td>\n",
       "      <td>63</td>\n",
       "      <td>SDN</td>\n",
       "      <td>HYUND</td>\n",
       "      <td>N</td>\n",
       "      <td>30640</td>\n",
       "      <td>...</td>\n",
       "      <td>NaN</td>\n",
       "      <td>NaN</td>\n",
       "      <td>2022-06-19 11:07:00</td>\n",
       "      <td>2022-06-19</td>\n",
       "      <td>17.6</td>\n",
       "      <td>40.6</td>\n",
       "      <td>0.0</td>\n",
       "      <td>29.5</td>\n",
       "      <td>Partially cloudy</td>\n",
       "      <td>Partly cloudy throughout the day.</td>\n",
       "    </tr>\n",
       "  </tbody>\n",
       "</table>\n",
       "<p>5 rows × 51 columns</p>\n",
       "</div>"
      ],
      "text/plain": [
       "   Summons Number Plate ID Registration State Plate Type  Issue Date  \\\n",
       "0      1484697303  JER1863                 NY        PAS  06/10/2022   \n",
       "1      1484697315  KEV4487                 NY        PAS  06/13/2022   \n",
       "2      1484697625   H73NYD                 NJ        PAS  06/19/2022   \n",
       "3      1484697674  GJC9296                 NY        PAS  06/19/2022   \n",
       "4      1484697686   M51PUV                 NJ        PAS  06/19/2022   \n",
       "\n",
       "   Violation Code Vehicle Body Type Vehicle Make Issuing Agency  Street Code1  \\\n",
       "0              67               SDN        TOYOT              P         34330   \n",
       "1              51              SUBN         JEEP              K         34310   \n",
       "2              63               SDN         JEEP              N         30640   \n",
       "3              63              SUBN        LEXUS              N         30640   \n",
       "4              63               SDN        HYUND              N         30640   \n",
       "\n",
       "   ...  Hydrant Violation  Double Parking Violation      datetime_issue  \\\n",
       "0  ...                NaN                       NaN 2022-06-10 10:37:00   \n",
       "1  ...                NaN                       NaN 2022-06-13 10:45:00   \n",
       "2  ...                NaN                       NaN 2022-06-19 11:16:00   \n",
       "3  ...                NaN                       NaN 2022-06-19 10:52:00   \n",
       "4  ...                NaN                       NaN 2022-06-19 11:07:00   \n",
       "\n",
       "     datetime  temp  humidity  snowdepth windspeed              conditions  \\\n",
       "0  2022-06-10  22.3      49.5        0.0      21.7                    Rain   \n",
       "1  2022-06-13  24.3      72.4        0.0      14.5  Rain, Partially cloudy   \n",
       "2  2022-06-19  17.6      40.6        0.0      29.5        Partially cloudy   \n",
       "3  2022-06-19  17.6      40.6        0.0      29.5        Partially cloudy   \n",
       "4  2022-06-19  17.6      40.6        0.0      29.5        Partially cloudy   \n",
       "\n",
       "                                         description  \n",
       "0  Clear conditions throughout the day with late ...  \n",
       "1        Becoming cloudy in the afternoon with rain.  \n",
       "2                  Partly cloudy throughout the day.  \n",
       "3                  Partly cloudy throughout the day.  \n",
       "4                  Partly cloudy throughout the day.  \n",
       "\n",
       "[5 rows x 51 columns]"
      ]
     },
     "execution_count": 7,
     "metadata": {},
     "output_type": "execute_result"
    }
   ],
   "source": [
    "df.head()"
   ]
  },
  {
   "cell_type": "code",
   "execution_count": 8,
   "id": "3fbe9347",
   "metadata": {},
   "outputs": [],
   "source": [
    "df['Street Name'] = df['Street Name'].astype(str)"
   ]
  },
  {
   "cell_type": "code",
   "execution_count": 9,
   "id": "6d71748a",
   "metadata": {},
   "outputs": [],
   "source": [
    "f = open('data/street-suffix-abbreviations.json')\n",
    "street_suffix = json.load(f)"
   ]
  },
  {
   "cell_type": "code",
   "execution_count": 10,
   "id": "f42d473d",
   "metadata": {},
   "outputs": [],
   "source": [
    "def fix_street_abbreviation(x):\n",
    "    abb = x.split()[-1]\n",
    "\n",
    "    if abb in street_suffix:\n",
    "        x = x.replace(abb, street_suffix[abb][0])\n",
    "    return x"
   ]
  },
  {
   "cell_type": "code",
   "execution_count": 11,
   "id": "be0ca3d7",
   "metadata": {},
   "outputs": [],
   "source": [
    "df[\"Street Name\"] = df.apply(lambda row: fix_street_abbreviation(row['Street Name']), axis = 1)"
   ]
  },
  {
   "cell_type": "code",
   "execution_count": 12,
   "id": "c370767e",
   "metadata": {},
   "outputs": [
    {
     "data": {
      "text/plain": [
       "0    W 28TH STREET\n",
       "1       27TH DRIVE\n",
       "2     SOUTH STREET\n",
       "3     SOUTH STREET\n",
       "4     SOUTH STREET\n",
       "Name: Street Name, dtype: object"
      ]
     },
     "execution_count": 12,
     "metadata": {},
     "output_type": "execute_result"
    }
   ],
   "source": [
    "df[\"Street Name\"][:5]"
   ]
  },
  {
   "cell_type": "code",
   "execution_count": 13,
   "id": "2dd78dcb",
   "metadata": {},
   "outputs": [],
   "source": [
    "schools = pd.read_csv('./data/school_locations.csv')"
   ]
  },
  {
   "cell_type": "code",
   "execution_count": 14,
   "id": "e29b6f93",
   "metadata": {},
   "outputs": [],
   "source": [
    "def street_from_address(x):\n",
    "    # make sure the addresses are written correctly\n",
    "    a = x.split(\" \")[1:]\n",
    "    return ' '.join(a)"
   ]
  },
  {
   "cell_type": "code",
   "execution_count": 15,
   "id": "dbd0173e",
   "metadata": {},
   "outputs": [],
   "source": [
    "schools['Street Name'] = schools.apply(lambda row: street_from_address(row['primary_address_line_1']), axis = 1)"
   ]
  },
  {
   "cell_type": "code",
   "execution_count": 16,
   "id": "f3dc9871",
   "metadata": {},
   "outputs": [],
   "source": [
    "# extract relevant categories\n",
    "schools = schools[[\"Street Name\", \"Location_Category_Description\", \"Police_precinct\"]]\n",
    "\n",
    "# note we are choosing to rename to issuer precinct. \n",
    "# we could also join via Violation Precinct - it would give us a different picture\n",
    "schools = schools.rename(columns={\"Police_precinct\": \"Issuer Precinct\"}, errors=\"raise\")"
   ]
  },
  {
   "cell_type": "code",
   "execution_count": 17,
   "id": "212e6cbf",
   "metadata": {},
   "outputs": [],
   "source": [
    "schools_g = schools.groupby(['Street Name', 'Issuer Precinct']).count()\n",
    "schools_g = schools_g.reset_index()"
   ]
  },
  {
   "cell_type": "code",
   "execution_count": 18,
   "id": "0bf5f7bd",
   "metadata": {},
   "outputs": [],
   "source": [
    "df = pd.merge(df, schools_g, how = \"left\", on=[\"Street Name\", \"Issuer Precinct\"])"
   ]
  },
  {
   "cell_type": "code",
   "execution_count": 19,
   "id": "7015e033",
   "metadata": {},
   "outputs": [
    {
     "data": {
      "text/plain": [
       "14392670"
      ]
     },
     "execution_count": 19,
     "metadata": {},
     "output_type": "execute_result"
    }
   ],
   "source": [
    "len(df)"
   ]
  },
  {
   "cell_type": "code",
   "execution_count": 20,
   "id": "f0ba3bf8",
   "metadata": {},
   "outputs": [
    {
     "name": "stderr",
     "output_type": "stream",
     "text": [
      "C:\\Users\\Ana\\anaconda3\\lib\\site-packages\\IPython\\core\\interactiveshell.py:3369: DtypeWarning: Columns (19,20) have mixed types.Specify dtype option on import or set low_memory=False.\n",
      "  exec(code_obj, self.user_global_ns, self.user_ns)\n"
     ]
    }
   ],
   "source": [
    "business = pd.read_csv('./data/legally_operating_businesses.csv')"
   ]
  },
  {
   "cell_type": "code",
   "execution_count": 21,
   "id": "b98e299d",
   "metadata": {},
   "outputs": [],
   "source": [
    "# filter data - active businesses only, ONLY in new york\n",
    "business = business[(business[\"License Type\"] == \"Business\") & (business[\"License Status\"] == \"Active\") & (business[\"Address State\"] == \"NY\") & (business[\"Address Borough\"] != \"Outside NYC\")]"
   ]
  },
  {
   "cell_type": "code",
   "execution_count": 22,
   "id": "e9ea0319",
   "metadata": {},
   "outputs": [],
   "source": [
    "business[\"Address Borough\"] = business[\"Address Borough\"].str.upper()"
   ]
  },
  {
   "cell_type": "code",
   "execution_count": 23,
   "id": "a3016385",
   "metadata": {},
   "outputs": [],
   "source": [
    "business[\"Address Street Name\"] = business[\"Address Street Name\"].str.upper()\n",
    "business[\"Address Street Name\"] = business[\"Address Street Name\"].astype('str')"
   ]
  },
  {
   "cell_type": "code",
   "execution_count": 24,
   "id": "83766913",
   "metadata": {},
   "outputs": [],
   "source": [
    "business[\"Address Street Name\"] = business.apply(lambda row: fix_street_abbreviation(row['Address Street Name']), axis = 1)"
   ]
  },
  {
   "cell_type": "code",
   "execution_count": 25,
   "id": "8c5f88d7",
   "metadata": {},
   "outputs": [],
   "source": [
    "business = business.rename(columns={\"Address Street Name\": \"Street Name\"}, errors=\"raise\")"
   ]
  },
  {
   "cell_type": "code",
   "execution_count": 26,
   "id": "e95482c4",
   "metadata": {},
   "outputs": [],
   "source": [
    "business['Business'] = 1"
   ]
  },
  {
   "cell_type": "code",
   "execution_count": 27,
   "id": "10bfc401",
   "metadata": {},
   "outputs": [],
   "source": [
    "def county_to_borough(x):\n",
    "    if (x == 'K') | (x.upper() == 'KINGS') | (x == 'BK'):\n",
    "        return 'BROOKLYN'\n",
    "    elif (x == 'BX') | (x.upper() == 'BRONX'):\n",
    "        return 'BRONX'\n",
    "    elif (x == 'R') | (x.upper() == 'RICH') | (x == 'ST') | (x.upper() == 'RICHM'):\n",
    "        return 'STATEN ISLAND'\n",
    "    elif (x == 'NY') | (x == 'MN'):\n",
    "        return 'MANHATTAN'\n",
    "    elif (x == 'Q') | (x == 'QN') | (x.upper() == 'QNS'):\n",
    "        return 'QUEENS'\n",
    "    else:\n",
    "        return x    "
   ]
  },
  {
   "cell_type": "code",
   "execution_count": 28,
   "id": "0336e140",
   "metadata": {},
   "outputs": [],
   "source": [
    "df[\"Violation County\"] = df[\"Violation County\"].astype('str')\n",
    "df[\"Address Borough\"] = df.apply(lambda row: county_to_borough(row['Violation County']), axis = 1)"
   ]
  },
  {
   "cell_type": "code",
   "execution_count": 29,
   "id": "cf4357ea",
   "metadata": {},
   "outputs": [],
   "source": [
    "business = business[[\"Street Name\", \"Address Borough\", \"Business\"]]"
   ]
  },
  {
   "cell_type": "code",
   "execution_count": 30,
   "id": "bccecfe9",
   "metadata": {},
   "outputs": [],
   "source": [
    "business_g = business.groupby(['Street Name', 'Address Borough']).count()\n",
    "business_g = business_g.reset_index()"
   ]
  },
  {
   "cell_type": "code",
   "execution_count": 31,
   "id": "54908af9",
   "metadata": {},
   "outputs": [],
   "source": [
    "df = pd.merge(df, business_g, how = \"left\", on=[\"Street Name\", \"Address Borough\"])"
   ]
  },
  {
   "cell_type": "code",
   "execution_count": 32,
   "id": "46d50136",
   "metadata": {},
   "outputs": [],
   "source": [
    "df['Business'] = df['Business'].fillna(0)"
   ]
  },
  {
   "cell_type": "code",
   "execution_count": null,
   "id": "9dc198d5",
   "metadata": {},
   "outputs": [],
   "source": []
  },
  {
   "cell_type": "code",
   "execution_count": 33,
   "id": "e21f4521",
   "metadata": {},
   "outputs": [],
   "source": [
    "header = pd.read_csv(\"data/nyc_permitted_events.csv\", nrows=1)"
   ]
  },
  {
   "cell_type": "code",
   "execution_count": 34,
   "id": "c463db5d",
   "metadata": {},
   "outputs": [],
   "source": [
    "# read only last 1 million events for 2022, 2023\n",
    "events = pd.read_csv(\"data/nyc_permitted_events.csv\", header=0, skiprows=16000000)"
   ]
  },
  {
   "cell_type": "code",
   "execution_count": 35,
   "id": "fa8e6e37",
   "metadata": {},
   "outputs": [],
   "source": [
    "events.columns = header.columns"
   ]
  },
  {
   "cell_type": "code",
   "execution_count": 36,
   "id": "b7c0d628",
   "metadata": {},
   "outputs": [
    {
     "data": {
      "text/html": [
       "<div>\n",
       "<style scoped>\n",
       "    .dataframe tbody tr th:only-of-type {\n",
       "        vertical-align: middle;\n",
       "    }\n",
       "\n",
       "    .dataframe tbody tr th {\n",
       "        vertical-align: top;\n",
       "    }\n",
       "\n",
       "    .dataframe thead th {\n",
       "        text-align: right;\n",
       "    }\n",
       "</style>\n",
       "<table border=\"1\" class=\"dataframe\">\n",
       "  <thead>\n",
       "    <tr style=\"text-align: right;\">\n",
       "      <th></th>\n",
       "      <th>Event ID</th>\n",
       "      <th>Event Name</th>\n",
       "      <th>Start Date/Time</th>\n",
       "      <th>End Date/Time</th>\n",
       "      <th>Event Agency</th>\n",
       "      <th>Event Type</th>\n",
       "      <th>Event Borough</th>\n",
       "      <th>Event Location</th>\n",
       "      <th>Event Street Side</th>\n",
       "      <th>Street Closure Type</th>\n",
       "      <th>Community Board</th>\n",
       "      <th>Police Precinct</th>\n",
       "    </tr>\n",
       "  </thead>\n",
       "  <tbody>\n",
       "    <tr>\n",
       "      <th>0</th>\n",
       "      <td>640309</td>\n",
       "      <td>Soccer -Regulation</td>\n",
       "      <td>10/16/2022 04:00:00 PM</td>\n",
       "      <td>10/16/2022 08:00:00 PM</td>\n",
       "      <td>Parks Department</td>\n",
       "      <td>Sport - Youth</td>\n",
       "      <td>Queens</td>\n",
       "      <td>Forest Park: Soccer-01</td>\n",
       "      <td>NaN</td>\n",
       "      <td>NaN</td>\n",
       "      <td>82,</td>\n",
       "      <td>102,</td>\n",
       "    </tr>\n",
       "    <tr>\n",
       "      <th>1</th>\n",
       "      <td>664352</td>\n",
       "      <td>Soccer -Regulation</td>\n",
       "      <td>10/02/2022 10:00:00 AM</td>\n",
       "      <td>10/02/2022 04:00:00 PM</td>\n",
       "      <td>Parks Department</td>\n",
       "      <td>Sport - Adult</td>\n",
       "      <td>Bronx</td>\n",
       "      <td>Ferry Point Park: Soccer-01</td>\n",
       "      <td>NaN</td>\n",
       "      <td>NaN</td>\n",
       "      <td>10,</td>\n",
       "      <td>45,</td>\n",
       "    </tr>\n",
       "    <tr>\n",
       "      <th>2</th>\n",
       "      <td>655548</td>\n",
       "      <td>Baseball - 12 and Under (Little League)</td>\n",
       "      <td>09/27/2022 09:00:00 AM</td>\n",
       "      <td>09/27/2022 10:00:00 PM</td>\n",
       "      <td>Parks Department</td>\n",
       "      <td>Sport - Youth</td>\n",
       "      <td>Bronx</td>\n",
       "      <td>Co-op City Field: Softball-01 ,Co-op City Fiel...</td>\n",
       "      <td>NaN</td>\n",
       "      <td>NaN</td>\n",
       "      <td>10,</td>\n",
       "      <td>45,</td>\n",
       "    </tr>\n",
       "    <tr>\n",
       "      <th>3</th>\n",
       "      <td>639967</td>\n",
       "      <td>Kickball</td>\n",
       "      <td>09/29/2022 12:00:00 PM</td>\n",
       "      <td>09/29/2022 07:00:00 PM</td>\n",
       "      <td>Parks Department</td>\n",
       "      <td>Sport - Adult</td>\n",
       "      <td>Manhattan</td>\n",
       "      <td>Tompkins Square Park: Softball-01</td>\n",
       "      <td>NaN</td>\n",
       "      <td>NaN</td>\n",
       "      <td>03,</td>\n",
       "      <td>9,</td>\n",
       "    </tr>\n",
       "    <tr>\n",
       "      <th>4</th>\n",
       "      <td>645334</td>\n",
       "      <td>Soccer - Non Regulation</td>\n",
       "      <td>09/26/2022 05:00:00 PM</td>\n",
       "      <td>09/26/2022 07:00:00 PM</td>\n",
       "      <td>Parks Department</td>\n",
       "      <td>Sport - Youth</td>\n",
       "      <td>Queens</td>\n",
       "      <td>Juniper Valley Park: Softball-03 ,Juniper Vall...</td>\n",
       "      <td>NaN</td>\n",
       "      <td>NaN</td>\n",
       "      <td>05,</td>\n",
       "      <td>104,</td>\n",
       "    </tr>\n",
       "  </tbody>\n",
       "</table>\n",
       "</div>"
      ],
      "text/plain": [
       "   Event ID                               Event Name         Start Date/Time  \\\n",
       "0    640309                       Soccer -Regulation  10/16/2022 04:00:00 PM   \n",
       "1    664352                       Soccer -Regulation  10/02/2022 10:00:00 AM   \n",
       "2    655548  Baseball - 12 and Under (Little League)  09/27/2022 09:00:00 AM   \n",
       "3    639967                                 Kickball  09/29/2022 12:00:00 PM   \n",
       "4    645334                  Soccer - Non Regulation  09/26/2022 05:00:00 PM   \n",
       "\n",
       "            End Date/Time      Event Agency     Event Type Event Borough  \\\n",
       "0  10/16/2022 08:00:00 PM  Parks Department  Sport - Youth        Queens   \n",
       "1  10/02/2022 04:00:00 PM  Parks Department  Sport - Adult         Bronx   \n",
       "2  09/27/2022 10:00:00 PM  Parks Department  Sport - Youth         Bronx   \n",
       "3  09/29/2022 07:00:00 PM  Parks Department  Sport - Adult     Manhattan   \n",
       "4  09/26/2022 07:00:00 PM  Parks Department  Sport - Youth        Queens   \n",
       "\n",
       "                                      Event Location Event Street Side  \\\n",
       "0                             Forest Park: Soccer-01               NaN   \n",
       "1                        Ferry Point Park: Soccer-01               NaN   \n",
       "2  Co-op City Field: Softball-01 ,Co-op City Fiel...               NaN   \n",
       "3                  Tompkins Square Park: Softball-01               NaN   \n",
       "4  Juniper Valley Park: Softball-03 ,Juniper Vall...               NaN   \n",
       "\n",
       "  Street Closure Type Community Board Police Precinct  \n",
       "0                 NaN             82,            102,  \n",
       "1                 NaN             10,             45,  \n",
       "2                 NaN             10,             45,  \n",
       "3                 NaN             03,              9,  \n",
       "4                 NaN             05,            104,  "
      ]
     },
     "execution_count": 36,
     "metadata": {},
     "output_type": "execute_result"
    }
   ],
   "source": [
    "events.head()"
   ]
  },
  {
   "cell_type": "code",
   "execution_count": 37,
   "id": "29278120",
   "metadata": {},
   "outputs": [
    {
     "data": {
      "text/plain": [
       "0    10/16/2022 04:00:00 PM\n",
       "1    10/02/2022 10:00:00 AM\n",
       "2    09/27/2022 09:00:00 AM\n",
       "3    09/29/2022 12:00:00 PM\n",
       "4    09/26/2022 05:00:00 PM\n",
       "Name: Start Date/Time, dtype: object"
      ]
     },
     "execution_count": 37,
     "metadata": {},
     "output_type": "execute_result"
    }
   ],
   "source": [
    "events['Start Date/Time'][:5]"
   ]
  },
  {
   "cell_type": "code",
   "execution_count": 38,
   "id": "ed5370f3",
   "metadata": {},
   "outputs": [],
   "source": [
    "events['parsed police'] = events.apply(lambda x: str(x['Police Precinct']).split(\",\")[0], axis=1, result_type='expand')"
   ]
  },
  {
   "cell_type": "code",
   "execution_count": 39,
   "id": "8538d170",
   "metadata": {},
   "outputs": [],
   "source": [
    "events['Start Date/Time'] = pd.to_datetime(events['Start Date/Time'], format='%m/%d/%Y %I:%M:%S %p',)\n"
   ]
  },
  {
   "cell_type": "code",
   "execution_count": 40,
   "id": "e453b3d0",
   "metadata": {},
   "outputs": [
    {
     "data": {
      "text/plain": [
       "0        2022-10-16 16:00:00\n",
       "1        2022-10-02 10:00:00\n",
       "2        2022-09-27 09:00:00\n",
       "3        2022-09-29 12:00:00\n",
       "4        2022-09-26 17:00:00\n",
       "                 ...        \n",
       "936385   2023-05-01 18:00:00\n",
       "936386   2023-04-22 08:00:00\n",
       "936387   2023-04-25 15:30:00\n",
       "936388   2023-05-18 08:00:00\n",
       "936389   2023-04-29 08:00:00\n",
       "Name: Start Date/Time, Length: 936390, dtype: datetime64[ns]"
      ]
     },
     "execution_count": 40,
     "metadata": {},
     "output_type": "execute_result"
    }
   ],
   "source": [
    "events['Start Date/Time']"
   ]
  },
  {
   "cell_type": "code",
   "execution_count": 41,
   "id": "0c5cdc90",
   "metadata": {},
   "outputs": [],
   "source": [
    "events['End Date/Time'] = pd.to_datetime(events['End Date/Time'], format='%m/%d/%Y %I:%M:%S %p',)"
   ]
  },
  {
   "cell_type": "code",
   "execution_count": 42,
   "id": "fbd87798",
   "metadata": {},
   "outputs": [],
   "source": [
    "events['Start Date'] = events['Start Date/Time'].dt.date"
   ]
  },
  {
   "cell_type": "code",
   "execution_count": 43,
   "id": "d64acde8",
   "metadata": {},
   "outputs": [],
   "source": [
    "events['End Date'] = events['End Date/Time'].dt.date"
   ]
  },
  {
   "cell_type": "code",
   "execution_count": 44,
   "id": "7e4ed19c",
   "metadata": {},
   "outputs": [],
   "source": [
    "events = events.rename(columns={\"parsed police\": \"Issuer Precinct\"}, errors=\"raise\")"
   ]
  },
  {
   "cell_type": "code",
   "execution_count": 46,
   "id": "264608ec",
   "metadata": {},
   "outputs": [],
   "source": [
    "events['event'] = 1"
   ]
  },
  {
   "cell_type": "code",
   "execution_count": 58,
   "id": "e1cdce06",
   "metadata": {},
   "outputs": [],
   "source": [
    "events = events[['Issuer Precinct', 'event', 'Start Date']]"
   ]
  },
  {
   "cell_type": "code",
   "execution_count": 59,
   "id": "fb42c825",
   "metadata": {},
   "outputs": [],
   "source": [
    "df = df.rename(columns={\"datetime\": \"Start Date\"}, errors=\"raise\")"
   ]
  },
  {
   "cell_type": "code",
   "execution_count": 60,
   "id": "27d40ff7",
   "metadata": {},
   "outputs": [
    {
     "data": {
      "text/html": [
       "<div>\n",
       "<style scoped>\n",
       "    .dataframe tbody tr th:only-of-type {\n",
       "        vertical-align: middle;\n",
       "    }\n",
       "\n",
       "    .dataframe tbody tr th {\n",
       "        vertical-align: top;\n",
       "    }\n",
       "\n",
       "    .dataframe thead th {\n",
       "        text-align: right;\n",
       "    }\n",
       "</style>\n",
       "<table border=\"1\" class=\"dataframe\">\n",
       "  <thead>\n",
       "    <tr style=\"text-align: right;\">\n",
       "      <th></th>\n",
       "      <th>Issuer Precinct</th>\n",
       "      <th>event</th>\n",
       "      <th>Start Date</th>\n",
       "    </tr>\n",
       "  </thead>\n",
       "  <tbody>\n",
       "    <tr>\n",
       "      <th>0</th>\n",
       "      <td>102</td>\n",
       "      <td>1</td>\n",
       "      <td>2022-10-16</td>\n",
       "    </tr>\n",
       "    <tr>\n",
       "      <th>1</th>\n",
       "      <td>45</td>\n",
       "      <td>1</td>\n",
       "      <td>2022-10-02</td>\n",
       "    </tr>\n",
       "    <tr>\n",
       "      <th>2</th>\n",
       "      <td>45</td>\n",
       "      <td>1</td>\n",
       "      <td>2022-09-27</td>\n",
       "    </tr>\n",
       "    <tr>\n",
       "      <th>3</th>\n",
       "      <td>9</td>\n",
       "      <td>1</td>\n",
       "      <td>2022-09-29</td>\n",
       "    </tr>\n",
       "    <tr>\n",
       "      <th>4</th>\n",
       "      <td>104</td>\n",
       "      <td>1</td>\n",
       "      <td>2022-09-26</td>\n",
       "    </tr>\n",
       "    <tr>\n",
       "      <th>...</th>\n",
       "      <td>...</td>\n",
       "      <td>...</td>\n",
       "      <td>...</td>\n",
       "    </tr>\n",
       "    <tr>\n",
       "      <th>936385</th>\n",
       "      <td>13</td>\n",
       "      <td>1</td>\n",
       "      <td>2023-05-01</td>\n",
       "    </tr>\n",
       "    <tr>\n",
       "      <th>936386</th>\n",
       "      <td>103</td>\n",
       "      <td>1</td>\n",
       "      <td>2023-04-22</td>\n",
       "    </tr>\n",
       "    <tr>\n",
       "      <th>936387</th>\n",
       "      <td>78</td>\n",
       "      <td>1</td>\n",
       "      <td>2023-04-25</td>\n",
       "    </tr>\n",
       "    <tr>\n",
       "      <th>936388</th>\n",
       "      <td>122</td>\n",
       "      <td>1</td>\n",
       "      <td>2023-05-18</td>\n",
       "    </tr>\n",
       "    <tr>\n",
       "      <th>936389</th>\n",
       "      <td>9</td>\n",
       "      <td>1</td>\n",
       "      <td>2023-04-29</td>\n",
       "    </tr>\n",
       "  </tbody>\n",
       "</table>\n",
       "<p>936374 rows × 3 columns</p>\n",
       "</div>"
      ],
      "text/plain": [
       "        Issuer Precinct  event  Start Date\n",
       "0                   102      1  2022-10-16\n",
       "1                    45      1  2022-10-02\n",
       "2                    45      1  2022-09-27\n",
       "3                     9      1  2022-09-29\n",
       "4                   104      1  2022-09-26\n",
       "...                 ...    ...         ...\n",
       "936385               13      1  2023-05-01\n",
       "936386              103      1  2023-04-22\n",
       "936387               78      1  2023-04-25\n",
       "936388              122      1  2023-05-18\n",
       "936389                9      1  2023-04-29\n",
       "\n",
       "[936374 rows x 3 columns]"
      ]
     },
     "execution_count": 60,
     "metadata": {},
     "output_type": "execute_result"
    }
   ],
   "source": [
    "events"
   ]
  },
  {
   "cell_type": "code",
   "execution_count": 61,
   "id": "2105ab36",
   "metadata": {},
   "outputs": [],
   "source": [
    "events = events[events['Issuer Precinct'] != 'nan']"
   ]
  },
  {
   "cell_type": "code",
   "execution_count": 62,
   "id": "17f7f886",
   "metadata": {},
   "outputs": [],
   "source": [
    "#events = events.dropna(subset=['Issuer Precinct'])\n",
    "events['Issuer Precinct'] = events['Issuer Precinct'].astype(int)"
   ]
  },
  {
   "cell_type": "code",
   "execution_count": 63,
   "id": "aee21881",
   "metadata": {},
   "outputs": [],
   "source": [
    "events_g = events.groupby(['Issuer Precinct', 'Start Date']).count()\n",
    "events_g = events_g.reset_index()"
   ]
  },
  {
   "cell_type": "code",
   "execution_count": 64,
   "id": "6310db5b",
   "metadata": {},
   "outputs": [
    {
     "data": {
      "text/plain": [
       "14541"
      ]
     },
     "execution_count": 64,
     "metadata": {},
     "output_type": "execute_result"
    }
   ],
   "source": [
    "len(events_g)"
   ]
  },
  {
   "cell_type": "code",
   "execution_count": 65,
   "id": "d9ffd34b",
   "metadata": {},
   "outputs": [
    {
     "data": {
      "text/html": [
       "<div>\n",
       "<style scoped>\n",
       "    .dataframe tbody tr th:only-of-type {\n",
       "        vertical-align: middle;\n",
       "    }\n",
       "\n",
       "    .dataframe tbody tr th {\n",
       "        vertical-align: top;\n",
       "    }\n",
       "\n",
       "    .dataframe thead th {\n",
       "        text-align: right;\n",
       "    }\n",
       "</style>\n",
       "<table border=\"1\" class=\"dataframe\">\n",
       "  <thead>\n",
       "    <tr style=\"text-align: right;\">\n",
       "      <th></th>\n",
       "      <th>Issuer Precinct</th>\n",
       "      <th>Start Date</th>\n",
       "      <th>event</th>\n",
       "    </tr>\n",
       "  </thead>\n",
       "  <tbody>\n",
       "    <tr>\n",
       "      <th>0</th>\n",
       "      <td>1</td>\n",
       "      <td>2022-05-20</td>\n",
       "      <td>6</td>\n",
       "    </tr>\n",
       "    <tr>\n",
       "      <th>1</th>\n",
       "      <td>1</td>\n",
       "      <td>2022-09-22</td>\n",
       "      <td>2</td>\n",
       "    </tr>\n",
       "    <tr>\n",
       "      <th>2</th>\n",
       "      <td>1</td>\n",
       "      <td>2022-09-23</td>\n",
       "      <td>4</td>\n",
       "    </tr>\n",
       "    <tr>\n",
       "      <th>3</th>\n",
       "      <td>1</td>\n",
       "      <td>2022-09-24</td>\n",
       "      <td>3</td>\n",
       "    </tr>\n",
       "    <tr>\n",
       "      <th>4</th>\n",
       "      <td>1</td>\n",
       "      <td>2022-09-25</td>\n",
       "      <td>10</td>\n",
       "    </tr>\n",
       "  </tbody>\n",
       "</table>\n",
       "</div>"
      ],
      "text/plain": [
       "   Issuer Precinct  Start Date  event\n",
       "0                1  2022-05-20      6\n",
       "1                1  2022-09-22      2\n",
       "2                1  2022-09-23      4\n",
       "3                1  2022-09-24      3\n",
       "4                1  2022-09-25     10"
      ]
     },
     "execution_count": 65,
     "metadata": {},
     "output_type": "execute_result"
    }
   ],
   "source": [
    "events_g.head()"
   ]
  },
  {
   "cell_type": "code",
   "execution_count": 66,
   "id": "5764d660",
   "metadata": {},
   "outputs": [],
   "source": [
    "df = pd.merge(df, events_g, how = \"left\", on=[\"Issuer Precinct\", \"Start Date\"])"
   ]
  },
  {
   "cell_type": "code",
   "execution_count": 67,
   "id": "87ae090c",
   "metadata": {},
   "outputs": [
    {
     "data": {
      "text/html": [
       "<div>\n",
       "<style scoped>\n",
       "    .dataframe tbody tr th:only-of-type {\n",
       "        vertical-align: middle;\n",
       "    }\n",
       "\n",
       "    .dataframe tbody tr th {\n",
       "        vertical-align: top;\n",
       "    }\n",
       "\n",
       "    .dataframe thead th {\n",
       "        text-align: right;\n",
       "    }\n",
       "</style>\n",
       "<table border=\"1\" class=\"dataframe\">\n",
       "  <thead>\n",
       "    <tr style=\"text-align: right;\">\n",
       "      <th></th>\n",
       "      <th>Summons Number</th>\n",
       "      <th>Plate ID</th>\n",
       "      <th>Registration State</th>\n",
       "      <th>Plate Type</th>\n",
       "      <th>Issue Date</th>\n",
       "      <th>Violation Code</th>\n",
       "      <th>Vehicle Body Type</th>\n",
       "      <th>Vehicle Make</th>\n",
       "      <th>Issuing Agency</th>\n",
       "      <th>Street Code1</th>\n",
       "      <th>...</th>\n",
       "      <th>temp</th>\n",
       "      <th>humidity</th>\n",
       "      <th>snowdepth</th>\n",
       "      <th>windspeed</th>\n",
       "      <th>conditions</th>\n",
       "      <th>description</th>\n",
       "      <th>Location_Category_Description</th>\n",
       "      <th>Address Borough</th>\n",
       "      <th>Business</th>\n",
       "      <th>event</th>\n",
       "    </tr>\n",
       "  </thead>\n",
       "  <tbody>\n",
       "    <tr>\n",
       "      <th>0</th>\n",
       "      <td>1484697303</td>\n",
       "      <td>JER1863</td>\n",
       "      <td>NY</td>\n",
       "      <td>PAS</td>\n",
       "      <td>06/10/2022</td>\n",
       "      <td>67</td>\n",
       "      <td>SDN</td>\n",
       "      <td>TOYOT</td>\n",
       "      <td>P</td>\n",
       "      <td>34330</td>\n",
       "      <td>...</td>\n",
       "      <td>22.3</td>\n",
       "      <td>49.5</td>\n",
       "      <td>0.0</td>\n",
       "      <td>21.7</td>\n",
       "      <td>Rain</td>\n",
       "      <td>Clear conditions throughout the day with late ...</td>\n",
       "      <td>NaN</td>\n",
       "      <td>MANHATTAN</td>\n",
       "      <td>11.0</td>\n",
       "      <td>NaN</td>\n",
       "    </tr>\n",
       "    <tr>\n",
       "      <th>1</th>\n",
       "      <td>1484697315</td>\n",
       "      <td>KEV4487</td>\n",
       "      <td>NY</td>\n",
       "      <td>PAS</td>\n",
       "      <td>06/13/2022</td>\n",
       "      <td>51</td>\n",
       "      <td>SUBN</td>\n",
       "      <td>JEEP</td>\n",
       "      <td>K</td>\n",
       "      <td>34310</td>\n",
       "      <td>...</td>\n",
       "      <td>24.3</td>\n",
       "      <td>72.4</td>\n",
       "      <td>0.0</td>\n",
       "      <td>14.5</td>\n",
       "      <td>Rain, Partially cloudy</td>\n",
       "      <td>Becoming cloudy in the afternoon with rain.</td>\n",
       "      <td>NaN</td>\n",
       "      <td>MANHATTAN</td>\n",
       "      <td>0.0</td>\n",
       "      <td>NaN</td>\n",
       "    </tr>\n",
       "    <tr>\n",
       "      <th>2</th>\n",
       "      <td>1484697625</td>\n",
       "      <td>H73NYD</td>\n",
       "      <td>NJ</td>\n",
       "      <td>PAS</td>\n",
       "      <td>06/19/2022</td>\n",
       "      <td>63</td>\n",
       "      <td>SDN</td>\n",
       "      <td>JEEP</td>\n",
       "      <td>N</td>\n",
       "      <td>30640</td>\n",
       "      <td>...</td>\n",
       "      <td>17.6</td>\n",
       "      <td>40.6</td>\n",
       "      <td>0.0</td>\n",
       "      <td>29.5</td>\n",
       "      <td>Partially cloudy</td>\n",
       "      <td>Partly cloudy throughout the day.</td>\n",
       "      <td>NaN</td>\n",
       "      <td>MANHATTAN</td>\n",
       "      <td>4.0</td>\n",
       "      <td>NaN</td>\n",
       "    </tr>\n",
       "    <tr>\n",
       "      <th>3</th>\n",
       "      <td>1484697674</td>\n",
       "      <td>GJC9296</td>\n",
       "      <td>NY</td>\n",
       "      <td>PAS</td>\n",
       "      <td>06/19/2022</td>\n",
       "      <td>63</td>\n",
       "      <td>SUBN</td>\n",
       "      <td>LEXUS</td>\n",
       "      <td>N</td>\n",
       "      <td>30640</td>\n",
       "      <td>...</td>\n",
       "      <td>17.6</td>\n",
       "      <td>40.6</td>\n",
       "      <td>0.0</td>\n",
       "      <td>29.5</td>\n",
       "      <td>Partially cloudy</td>\n",
       "      <td>Partly cloudy throughout the day.</td>\n",
       "      <td>NaN</td>\n",
       "      <td>MANHATTAN</td>\n",
       "      <td>4.0</td>\n",
       "      <td>NaN</td>\n",
       "    </tr>\n",
       "    <tr>\n",
       "      <th>4</th>\n",
       "      <td>1484697686</td>\n",
       "      <td>M51PUV</td>\n",
       "      <td>NJ</td>\n",
       "      <td>PAS</td>\n",
       "      <td>06/19/2022</td>\n",
       "      <td>63</td>\n",
       "      <td>SDN</td>\n",
       "      <td>HYUND</td>\n",
       "      <td>N</td>\n",
       "      <td>30640</td>\n",
       "      <td>...</td>\n",
       "      <td>17.6</td>\n",
       "      <td>40.6</td>\n",
       "      <td>0.0</td>\n",
       "      <td>29.5</td>\n",
       "      <td>Partially cloudy</td>\n",
       "      <td>Partly cloudy throughout the day.</td>\n",
       "      <td>NaN</td>\n",
       "      <td>MANHATTAN</td>\n",
       "      <td>4.0</td>\n",
       "      <td>NaN</td>\n",
       "    </tr>\n",
       "  </tbody>\n",
       "</table>\n",
       "<p>5 rows × 55 columns</p>\n",
       "</div>"
      ],
      "text/plain": [
       "   Summons Number Plate ID Registration State Plate Type  Issue Date  \\\n",
       "0      1484697303  JER1863                 NY        PAS  06/10/2022   \n",
       "1      1484697315  KEV4487                 NY        PAS  06/13/2022   \n",
       "2      1484697625   H73NYD                 NJ        PAS  06/19/2022   \n",
       "3      1484697674  GJC9296                 NY        PAS  06/19/2022   \n",
       "4      1484697686   M51PUV                 NJ        PAS  06/19/2022   \n",
       "\n",
       "   Violation Code Vehicle Body Type Vehicle Make Issuing Agency  Street Code1  \\\n",
       "0              67               SDN        TOYOT              P         34330   \n",
       "1              51              SUBN         JEEP              K         34310   \n",
       "2              63               SDN         JEEP              N         30640   \n",
       "3              63              SUBN        LEXUS              N         30640   \n",
       "4              63               SDN        HYUND              N         30640   \n",
       "\n",
       "   ...  temp  humidity  snowdepth  windspeed              conditions  \\\n",
       "0  ...  22.3      49.5        0.0       21.7                    Rain   \n",
       "1  ...  24.3      72.4        0.0       14.5  Rain, Partially cloudy   \n",
       "2  ...  17.6      40.6        0.0       29.5        Partially cloudy   \n",
       "3  ...  17.6      40.6        0.0       29.5        Partially cloudy   \n",
       "4  ...  17.6      40.6        0.0       29.5        Partially cloudy   \n",
       "\n",
       "                                         description  \\\n",
       "0  Clear conditions throughout the day with late ...   \n",
       "1        Becoming cloudy in the afternoon with rain.   \n",
       "2                  Partly cloudy throughout the day.   \n",
       "3                  Partly cloudy throughout the day.   \n",
       "4                  Partly cloudy throughout the day.   \n",
       "\n",
       "   Location_Category_Description Address Borough Business event  \n",
       "0                            NaN       MANHATTAN     11.0   NaN  \n",
       "1                            NaN       MANHATTAN      0.0   NaN  \n",
       "2                            NaN       MANHATTAN      4.0   NaN  \n",
       "3                            NaN       MANHATTAN      4.0   NaN  \n",
       "4                            NaN       MANHATTAN      4.0   NaN  \n",
       "\n",
       "[5 rows x 55 columns]"
      ]
     },
     "execution_count": 67,
     "metadata": {},
     "output_type": "execute_result"
    }
   ],
   "source": [
    "df.head()"
   ]
  },
  {
   "cell_type": "code",
   "execution_count": 68,
   "id": "986ddcec",
   "metadata": {},
   "outputs": [
    {
     "ename": "ImportError",
     "evalue": "Unable to find a usable engine; tried using: 'pyarrow', 'fastparquet'.\nA suitable version of pyarrow or fastparquet is required for parquet support.\nTrying to import the above resulted in these errors:\n - Missing optional dependency 'pyarrow'. pyarrow is required for parquet support. Use pip or conda to install pyarrow.\n - Missing optional dependency 'fastparquet'. fastparquet is required for parquet support. Use pip or conda to install fastparquet.",
     "output_type": "error",
     "traceback": [
      "\u001b[1;31m---------------------------------------------------------------------------\u001b[0m",
      "\u001b[1;31mImportError\u001b[0m                               Traceback (most recent call last)",
      "Input \u001b[1;32mIn [68]\u001b[0m, in \u001b[0;36m<cell line: 1>\u001b[1;34m()\u001b[0m\n\u001b[1;32m----> 1\u001b[0m \u001b[43mdf\u001b[49m\u001b[38;5;241;43m.\u001b[39;49m\u001b[43mto_parquet\u001b[49m\u001b[43m(\u001b[49m\u001b[38;5;124;43m'\u001b[39;49m\u001b[38;5;124;43mparking_augmented.parquet\u001b[39;49m\u001b[38;5;124;43m'\u001b[39;49m\u001b[43m)\u001b[49m\n",
      "File \u001b[1;32m~\\anaconda3\\lib\\site-packages\\pandas\\util\\_decorators.py:207\u001b[0m, in \u001b[0;36mdeprecate_kwarg.<locals>._deprecate_kwarg.<locals>.wrapper\u001b[1;34m(*args, **kwargs)\u001b[0m\n\u001b[0;32m    205\u001b[0m     \u001b[38;5;28;01melse\u001b[39;00m:\n\u001b[0;32m    206\u001b[0m         kwargs[new_arg_name] \u001b[38;5;241m=\u001b[39m new_arg_value\n\u001b[1;32m--> 207\u001b[0m \u001b[38;5;28;01mreturn\u001b[39;00m func(\u001b[38;5;241m*\u001b[39margs, \u001b[38;5;241m*\u001b[39m\u001b[38;5;241m*\u001b[39mkwargs)\n",
      "File \u001b[1;32m~\\anaconda3\\lib\\site-packages\\pandas\\core\\frame.py:2677\u001b[0m, in \u001b[0;36mDataFrame.to_parquet\u001b[1;34m(self, path, engine, compression, index, partition_cols, storage_options, **kwargs)\u001b[0m\n\u001b[0;32m   2589\u001b[0m \u001b[38;5;124;03m\"\"\"\u001b[39;00m\n\u001b[0;32m   2590\u001b[0m \u001b[38;5;124;03mWrite a DataFrame to the binary parquet format.\u001b[39;00m\n\u001b[0;32m   2591\u001b[0m \n\u001b[1;32m   (...)\u001b[0m\n\u001b[0;32m   2673\u001b[0m \u001b[38;5;124;03m>>> content = f.read()\u001b[39;00m\n\u001b[0;32m   2674\u001b[0m \u001b[38;5;124;03m\"\"\"\u001b[39;00m\n\u001b[0;32m   2675\u001b[0m \u001b[38;5;28;01mfrom\u001b[39;00m \u001b[38;5;21;01mpandas\u001b[39;00m\u001b[38;5;21;01m.\u001b[39;00m\u001b[38;5;21;01mio\u001b[39;00m\u001b[38;5;21;01m.\u001b[39;00m\u001b[38;5;21;01mparquet\u001b[39;00m \u001b[38;5;28;01mimport\u001b[39;00m to_parquet\n\u001b[1;32m-> 2677\u001b[0m \u001b[38;5;28;01mreturn\u001b[39;00m to_parquet(\n\u001b[0;32m   2678\u001b[0m     \u001b[38;5;28mself\u001b[39m,\n\u001b[0;32m   2679\u001b[0m     path,\n\u001b[0;32m   2680\u001b[0m     engine,\n\u001b[0;32m   2681\u001b[0m     compression\u001b[38;5;241m=\u001b[39mcompression,\n\u001b[0;32m   2682\u001b[0m     index\u001b[38;5;241m=\u001b[39mindex,\n\u001b[0;32m   2683\u001b[0m     partition_cols\u001b[38;5;241m=\u001b[39mpartition_cols,\n\u001b[0;32m   2684\u001b[0m     storage_options\u001b[38;5;241m=\u001b[39mstorage_options,\n\u001b[0;32m   2685\u001b[0m     \u001b[38;5;241m*\u001b[39m\u001b[38;5;241m*\u001b[39mkwargs,\n\u001b[0;32m   2686\u001b[0m )\n",
      "File \u001b[1;32m~\\anaconda3\\lib\\site-packages\\pandas\\io\\parquet.py:412\u001b[0m, in \u001b[0;36mto_parquet\u001b[1;34m(df, path, engine, compression, index, storage_options, partition_cols, **kwargs)\u001b[0m\n\u001b[0;32m    410\u001b[0m \u001b[38;5;28;01mif\u001b[39;00m \u001b[38;5;28misinstance\u001b[39m(partition_cols, \u001b[38;5;28mstr\u001b[39m):\n\u001b[0;32m    411\u001b[0m     partition_cols \u001b[38;5;241m=\u001b[39m [partition_cols]\n\u001b[1;32m--> 412\u001b[0m impl \u001b[38;5;241m=\u001b[39m \u001b[43mget_engine\u001b[49m\u001b[43m(\u001b[49m\u001b[43mengine\u001b[49m\u001b[43m)\u001b[49m\n\u001b[0;32m    414\u001b[0m path_or_buf: FilePathOrBuffer \u001b[38;5;241m=\u001b[39m io\u001b[38;5;241m.\u001b[39mBytesIO() \u001b[38;5;28;01mif\u001b[39;00m path \u001b[38;5;129;01mis\u001b[39;00m \u001b[38;5;28;01mNone\u001b[39;00m \u001b[38;5;28;01melse\u001b[39;00m path\n\u001b[0;32m    416\u001b[0m impl\u001b[38;5;241m.\u001b[39mwrite(\n\u001b[0;32m    417\u001b[0m     df,\n\u001b[0;32m    418\u001b[0m     path_or_buf,\n\u001b[1;32m   (...)\u001b[0m\n\u001b[0;32m    423\u001b[0m     \u001b[38;5;241m*\u001b[39m\u001b[38;5;241m*\u001b[39mkwargs,\n\u001b[0;32m    424\u001b[0m )\n",
      "File \u001b[1;32m~\\anaconda3\\lib\\site-packages\\pandas\\io\\parquet.py:53\u001b[0m, in \u001b[0;36mget_engine\u001b[1;34m(engine)\u001b[0m\n\u001b[0;32m     50\u001b[0m         \u001b[38;5;28;01mexcept\u001b[39;00m \u001b[38;5;167;01mImportError\u001b[39;00m \u001b[38;5;28;01mas\u001b[39;00m err:\n\u001b[0;32m     51\u001b[0m             error_msgs \u001b[38;5;241m+\u001b[39m\u001b[38;5;241m=\u001b[39m \u001b[38;5;124m\"\u001b[39m\u001b[38;5;130;01m\\n\u001b[39;00m\u001b[38;5;124m - \u001b[39m\u001b[38;5;124m\"\u001b[39m \u001b[38;5;241m+\u001b[39m \u001b[38;5;28mstr\u001b[39m(err)\n\u001b[1;32m---> 53\u001b[0m     \u001b[38;5;28;01mraise\u001b[39;00m \u001b[38;5;167;01mImportError\u001b[39;00m(\n\u001b[0;32m     54\u001b[0m         \u001b[38;5;124m\"\u001b[39m\u001b[38;5;124mUnable to find a usable engine; \u001b[39m\u001b[38;5;124m\"\u001b[39m\n\u001b[0;32m     55\u001b[0m         \u001b[38;5;124m\"\u001b[39m\u001b[38;5;124mtried using: \u001b[39m\u001b[38;5;124m'\u001b[39m\u001b[38;5;124mpyarrow\u001b[39m\u001b[38;5;124m'\u001b[39m\u001b[38;5;124m, \u001b[39m\u001b[38;5;124m'\u001b[39m\u001b[38;5;124mfastparquet\u001b[39m\u001b[38;5;124m'\u001b[39m\u001b[38;5;124m.\u001b[39m\u001b[38;5;130;01m\\n\u001b[39;00m\u001b[38;5;124m\"\u001b[39m\n\u001b[0;32m     56\u001b[0m         \u001b[38;5;124m\"\u001b[39m\u001b[38;5;124mA suitable version of \u001b[39m\u001b[38;5;124m\"\u001b[39m\n\u001b[0;32m     57\u001b[0m         \u001b[38;5;124m\"\u001b[39m\u001b[38;5;124mpyarrow or fastparquet is required for parquet \u001b[39m\u001b[38;5;124m\"\u001b[39m\n\u001b[0;32m     58\u001b[0m         \u001b[38;5;124m\"\u001b[39m\u001b[38;5;124msupport.\u001b[39m\u001b[38;5;130;01m\\n\u001b[39;00m\u001b[38;5;124m\"\u001b[39m\n\u001b[0;32m     59\u001b[0m         \u001b[38;5;124m\"\u001b[39m\u001b[38;5;124mTrying to import the above resulted in these errors:\u001b[39m\u001b[38;5;124m\"\u001b[39m\n\u001b[0;32m     60\u001b[0m         \u001b[38;5;124mf\u001b[39m\u001b[38;5;124m\"\u001b[39m\u001b[38;5;132;01m{\u001b[39;00merror_msgs\u001b[38;5;132;01m}\u001b[39;00m\u001b[38;5;124m\"\u001b[39m\n\u001b[0;32m     61\u001b[0m     )\n\u001b[0;32m     63\u001b[0m \u001b[38;5;28;01mif\u001b[39;00m engine \u001b[38;5;241m==\u001b[39m \u001b[38;5;124m\"\u001b[39m\u001b[38;5;124mpyarrow\u001b[39m\u001b[38;5;124m\"\u001b[39m:\n\u001b[0;32m     64\u001b[0m     \u001b[38;5;28;01mreturn\u001b[39;00m PyArrowImpl()\n",
      "\u001b[1;31mImportError\u001b[0m: Unable to find a usable engine; tried using: 'pyarrow', 'fastparquet'.\nA suitable version of pyarrow or fastparquet is required for parquet support.\nTrying to import the above resulted in these errors:\n - Missing optional dependency 'pyarrow'. pyarrow is required for parquet support. Use pip or conda to install pyarrow.\n - Missing optional dependency 'fastparquet'. fastparquet is required for parquet support. Use pip or conda to install fastparquet."
     ]
    }
   ],
   "source": [
    "df.to_parquet('parking_augmented.parquet')"
   ]
  },
  {
   "cell_type": "code",
   "execution_count": null,
   "id": "4dcf2dc0",
   "metadata": {},
   "outputs": [],
   "source": []
  }
 ],
 "metadata": {
  "kernelspec": {
   "display_name": "Python 3 (ipykernel)",
   "language": "python",
   "name": "python3"
  },
  "language_info": {
   "codemirror_mode": {
    "name": "ipython",
    "version": 3
   },
   "file_extension": ".py",
   "mimetype": "text/x-python",
   "name": "python",
   "nbconvert_exporter": "python",
   "pygments_lexer": "ipython3",
   "version": "3.9.12"
  }
 },
 "nbformat": 4,
 "nbformat_minor": 5
}
